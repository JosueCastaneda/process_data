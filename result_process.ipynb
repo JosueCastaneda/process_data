{
 "cells": [
  {
   "cell_type": "markdown",
   "metadata": {},
   "source": [
    "# Results for local code"
   ]
  },
  {
   "cell_type": "markdown",
   "metadata": {},
   "source": [
    "# 0. Load libraries"
   ]
  },
  {
   "cell_type": "code",
   "execution_count": 254,
   "metadata": {},
   "outputs": [],
   "source": [
    "import numpy as np\n",
    "import pandas as pd\n",
    "import matplotlib.pyplot as plt\n",
    "import pylab as pl\n",
    "import math\n",
    "import os\n",
    "import pickle\n",
    "#%matplotlib inline"
   ]
  },
  {
   "cell_type": "markdown",
   "metadata": {},
   "source": [
    "# Create variables to store"
   ]
  },
  {
   "cell_type": "code",
   "execution_count": 255,
   "metadata": {},
   "outputs": [],
   "source": [
    "recalculate_if_saved = True\n",
    "repetitions = 18\n",
    "number_of_updates = 150\n",
    "algorithm_list = ['corrective', 'standard', 'preventive']\n",
    "types_list = ['concurrent']\n",
    "delay_list = ['1', '10', '100']\n",
    "repetition_probability_list = ['10']\n",
    "negation_probability_list = ['0', '10', '30']\n",
    "# Remove: just For debug purposes\n",
    "first_time = True\n",
    "\n",
    "index_list = []\n",
    "for i in range(150, 3150, 150):\n",
    "    index_list.append(i)\n",
    "\n",
    "file_path = 'local/test/results_experiment_'\n",
    "columns_metrics = ['inconsistencies', 'messages_sent', 'latency_per_operation', 'overhead_data_structure', 'overhead_per_message', 'number_of_reconfigurations', 'total_reconfiguration_time']\n",
    "file_path_images = '/images/'\n",
    "current_directory = os.getcwd()"
   ]
  },
  {
   "cell_type": "code",
   "execution_count": 256,
   "metadata": {},
   "outputs": [],
   "source": [
    "def create_empty_data():\n",
    "    data = dict()\n",
    "    data_mean = dict()\n",
    "    data_var = dict()\n",
    "    string_name = 'data_frame'\n",
    "            \n",
    "    for alg in algorithm_list:\n",
    "        for ty in types_list:\n",
    "            for dela in delay_list:\n",
    "                for rep in repetition_probability_list:\n",
    "                    for neg in negation_probability_list:\n",
    "                        var_name = string_name +'_' + alg + '_' + ty +'_delay_' + str(dela) + '_repetition_' + str(rep) + '_negation_' + str(neg)\n",
    "                        data[var_name] = pd.DataFrame(columns=columns_metrics, index=index_list)    \n",
    "                        data_mean[var_name] = pd.DataFrame(columns=columns_metrics, index=index_list)    \n",
    "                        data_var[var_name] = pd.DataFrame(columns=columns_metrics, index=index_list)    \n",
    "    return data, data_mean, data_var"
   ]
  },
  {
   "cell_type": "code",
   "execution_count": 257,
   "metadata": {},
   "outputs": [],
   "source": [
    "dataframe_data, dataframe_mean_data, dataframe_var_data = create_empty_data()"
   ]
  },
  {
   "cell_type": "code",
   "execution_count": 258,
   "metadata": {},
   "outputs": [],
   "source": [
    "def add_result(mean_vector, std_vector, var_vector, data):\n",
    "    var_name = 'data_frame' + '_' + data['algorithm'] + '_' + data['alg_type'] + '_delay_' + data['delay'] + '_repetition_' + data['repetition'] + '_negation_' + data['negation']\n",
    "#     print(var_name)\n",
    "    var = dataframe_data[var_name] \n",
    "    var_mean = dataframe_mean_data[var_name] \n",
    "    var_var = dataframe_var_data[var_name] \n",
    "#     print(data['update'])\n",
    "#     print(var.loc[data['update']])\n",
    "    var.loc[data['update']] = mean_vector\n",
    "    var_mean.loc[data['update']] = std_vector\n",
    "    var_var.loc[data['update']] = var_vector\n",
    "    \n",
    "#     var.loc[data['update']] = value\n",
    "    "
   ]
  },
  {
   "cell_type": "code",
   "execution_count": 259,
   "metadata": {},
   "outputs": [],
   "source": [
    "def save_all_dataframes_as_pickle():\n",
    "    print('Saving....')\n",
    "    current_directory = os.getcwd()\n",
    "    path_results = '/saved_dataframes/'\n",
    "    string_name = 'data_frame'\n",
    "            \n",
    "    for alg in algorithm_list:\n",
    "        for ty in types_list:\n",
    "            for dela in delay_list:\n",
    "                for rep in repetition_probability_list:\n",
    "                    for neg in negation_probability_list:\n",
    "                            var_name = string_name +'_' + alg + '_' + ty +'_delay_' + str(dela) + '_repetition_' + str(rep) + '_negation_' + str(neg)\n",
    "                            var = dataframe_data[var_name] \n",
    "                            pickle.dump(var, open(current_directory + path_results + var_name +'.p' , \"wb\"))\n",
    "                            var_mean = dataframe_mean_data[var_name] \n",
    "                            pickle.dump(var_mean, open(current_directory + path_results + var_name +'.p' , \"wb\"))\n",
    "                            var_var = dataframe_var_data[var_name] \n",
    "                            pickle.dump(var_var, open(current_directory + path_results + var_name +'.p' , \"wb\"))\n",
    "                                                                                                                \n",
    "    pickle.dump(dataframe_data, open(current_directory + path_results + '/single_value/dataframe_data.p' , 'wb'))\n",
    "    pickle.dump(dataframe_data, open(current_directory + path_results + '/single_value/dataframe_mean_data.p' , 'wb'))\n",
    "    pickle.dump(dataframe_data, open(current_directory + path_results + '/single_value/dataframe_var_data.p' , 'wb'))\n",
    "#     print(dataframe_data)                    \n",
    "    print('Saved!')"
   ]
  },
  {
   "cell_type": "code",
   "execution_count": 260,
   "metadata": {},
   "outputs": [],
   "source": [
    "def calculate_values():    \n",
    "    new_number = number_of_updates\n",
    "    for repetition_index in range(0, repetitions):\n",
    "        file_path = 'local/test/results_experiment_' + str(new_number)\n",
    "        data = dict()\n",
    "        data['update'] = number_of_updates * (repetition_index + 1)\n",
    "        for delay in delay_list:\n",
    "            data['delay'] = delay\n",
    "            for repetition_probability in repetition_probability_list:\n",
    "                data['repetition'] = repetition_probability\n",
    "                for negation_probability in negation_probability_list:\n",
    "                    data['negation'] = negation_probability\n",
    "                    for algorithm in algorithm_list:\n",
    "                        data['algorithm'] = algorithm\n",
    "                        for alg_type in types_list:  \n",
    "                            data['alg_type'] = alg_type\n",
    "                            str_1 = 'result_algorithm_*' + algorithm + '*_type_*' + alg_type + '*_negationProbability_*' + str(negation_probability)\n",
    "                            str_2 = '*_delay_*' + str(delay) + '.0*_repetitionProbability_*' + str(repetition_probability) + '*.csv'\n",
    "                            file_name = str_1 + str_2\n",
    "                            try:\n",
    "                                result = pd.read_csv(file_path +'/' + file_name, encoding='utf-8', sep=r'\\s*,\\s*', header=0, engine='python')\n",
    "                                mean_vector = result.mean(axis=0) \n",
    "#                                 For overhead in KB divide by 1000 \n",
    "#                                 mean_vector = mean_vector / (1000.0)                                \n",
    "#                                 For the average latency divide the total latency by the reconfigurations                              \n",
    "#                                 mean_vector = mean_vector / (number_of_updates * (repetition_index + 1))  \n",
    "                                std_vector = result.std(axis=0)\n",
    "                                var_vector = result.var(axis=0)                            \n",
    "                                add_result(mean_vector, std_vector, var_vector, data)                                \n",
    "                            except FileNotFoundError as e:\n",
    "                                print(e)\n",
    "\n",
    "        new_number += number_of_updates\n",
    "    save_all_dataframes_as_pickle()"
   ]
  },
  {
   "cell_type": "code",
   "execution_count": 261,
   "metadata": {},
   "outputs": [],
   "source": [
    "def load_values():\n",
    "    print('Loading...')\n",
    "    path_results = '/saved_dataframes/'\n",
    "    current_directory = os.getcwd()\n",
    "    loaded_data = pickle.load(open(current_directory + path_results + '/single_value/dataframe_data.p' , 'rb'))\n",
    "    loaded_mean_data = pickle.load(open(current_directory + path_results + '/single_value/dataframe_data.p' , 'rb'))\n",
    "    loaded_var_data = pickle.load(open(current_directory + path_results + '/single_value/dataframe_data.p' , 'rb'))\n",
    "    print('Loaded!')\n",
    "    return loaded_data, loaded_mean_data, loaded_var_data"
   ]
  },
  {
   "cell_type": "code",
   "execution_count": 262,
   "metadata": {
    "scrolled": true
   },
   "outputs": [
    {
     "name": "stdout",
     "output_type": "stream",
     "text": [
      "inconsistencies                  0.000000\n",
      "messages_sent                    2.197778\n",
      "latency_per_operation            0.000229\n",
      "overhead_data_structure       1137.048889\n",
      "overhead_per_message          1874.233333\n",
      "number_of_reconfigurations       0.000000\n",
      "total_reconfiguration_time       0.000087\n",
      "dtype: float64\n",
      "inconsistencies               0.000000e+00\n",
      "messages_sent                 2.197778e-03\n",
      "latency_per_operation         2.288889e-07\n",
      "overhead_data_structure       1.137049e+00\n",
      "overhead_per_message          1.874233e+00\n",
      "number_of_reconfigurations    0.000000e+00\n",
      "total_reconfiguration_time    8.666667e-08\n",
      "dtype: float64\n",
      "Saving....\n",
      "Saved!\n"
     ]
    }
   ],
   "source": [
    "if recalculate_if_saved:\n",
    "    calculate_values()\n",
    "else:\n",
    "#     dataframe_data = load_values()\n",
    "    dataframe_data, dataframe_mean_data, dataframe_var_data = load_values()\n",
    "#     print(dataframe_mean_data)\n",
    "#     print(dataframe_data)"
   ]
  },
  {
   "cell_type": "markdown",
   "metadata": {},
   "source": [
    "# Plot result first extra repetitions"
   ]
  },
  {
   "cell_type": "code",
   "execution_count": 263,
   "metadata": {},
   "outputs": [],
   "source": [
    "def plot_metric(metric='number_of_reconfigurations', type_exp='concurrent', y_label='Inconsistencies'):\n",
    "    my_index = dataframe_data['data_frame_corrective_concurrent_delay_100_repetition_10_negation_10'].index\n",
    "    my_results = []\n",
    "    my_metric = metric\n",
    "    my_string_corrective = 'data_frame_corrective_' + type_exp\n",
    "    my_string_preventive = 'data_frame_preventive_' + type_exp\n",
    "    my_string_standard = 'data_frame_standard_' + type_exp\n",
    "    negation_index_list = []\n",
    "    my_indexes = 0\n",
    "\n",
    "    for dela in delay_list:\n",
    "        str_del = '_delay_' + str(dela)\n",
    "        my_dict = dict()\n",
    "        my_dict['x_values'] = my_index\n",
    "\n",
    "        for neg in negation_probability_list:\n",
    "            str_neg = '_negation_' + str(neg)\n",
    "            if neg == '70':\n",
    "                negation_index_list.append(my_indexes)\n",
    "            \n",
    "            for rep in repetition_probability_list:\n",
    "                str_rep = '_repetition_' + str(rep)\n",
    "                corrective_string = my_string_corrective + str_del + str_rep + str_neg\n",
    "                preventive_string = my_string_preventive + str_del +  str_rep + str_neg\n",
    "                standard_string = my_string_standard + str_del + str_rep + str_neg            \n",
    "                my_dict['y_corrective_' + str(rep)] = dataframe_data[corrective_string][my_metric]\n",
    "                my_dict['y_corrective_mean_' + str(rep)] = dataframe_mean_data[corrective_string][my_metric]\n",
    "                    \n",
    "                my_dict['y_preventive_' + str(rep)] = dataframe_data[preventive_string][my_metric]\n",
    "                my_dict['y_preventive_mean_' + str(rep)] = dataframe_mean_data[preventive_string][my_metric]\n",
    "                \n",
    "                my_dict['y_standard_' + str(rep)] = dataframe_data[standard_string][my_metric]       \n",
    "                my_dict['y_standard_mean_' + str(rep)] = dataframe_mean_data[standard_string][my_metric]       \n",
    "            my_results.append(pd.DataFrame(my_dict))\n",
    "            my_indexes += 1\n",
    "\n",
    "    line_labels = ['Corrective 10% rep', 'Preventive 10% rep', 'Standard 10% rep']\n",
    "#     line_labels = ['Corrective 10% rep', 'Corrective 10%, 70% Neg', 'Preventive 10% rep', 'Standard 10% rep']\n",
    "   \n",
    "    my_index = 0  # Possible numbers 0-9  \n",
    "    columns_metrics = ['inconsistencies', 'messages_sent', 'latency_per_operation', 'overhead_data_structure', 'overhead_per_message', 'number_of_reconfigurations', 'total_reconfiguration_time']\n",
    "    negation_70_index = 3\n",
    "   \n",
    "    i = 2\n",
    "    j = 2\n",
    "    \n",
    "    if metric == 'overhead_data_structure' or metric=='latency_per_operation' or metric == 'messages_sent' or metric =='number_of_reconfigurations':       \n",
    "        if metric == 'overhead_data_structure':\n",
    "            line_labels = ['Corrective CF-C','Preventive CF-P', 'Standard NCF-E']\n",
    "            plt.plot('x_values', 'y_corrective_10', data=my_results[6], marker='^', color='green', linewidth=2, label='corrective 10', linestyle='-')\n",
    "\n",
    "        else:\n",
    "            line_labels = ['Corrective CF-C 1ms', 'Corrective CF-C 10ms', 'Corrective CF-C 100ms','Preventive CF-P 1ms', 'Standard NCF-E 1ms']\n",
    "            plt.plot('x_values', 'y_corrective_10', data=my_results[6], marker='^', color='green', linewidth=2, label='corrective 10', linestyle='-')\n",
    "            plt.plot('x_values', 'y_corrective_10', data=my_results[7], marker='>', color='green', linewidth=2, label='corrective 10', linestyle='-')\n",
    "            plt.plot('x_values', 'y_corrective_10', data=my_results[8], marker='D', color='green', linewidth=2, label='corrective 10', linestyle='-')\n",
    "\n",
    "        plt.plot('x_values', 'y_preventive_10', data=my_results[8], marker='o', color='blue', linewidth=2, label='preventive 10')                        \n",
    "        plt.plot('x_values', 'y_standard_10', data=my_results[8], marker='s', color='red', linewidth=2, label='standard 10', linestyle='-')            \n",
    "#         plt.title('Delay ' + str(delay_list[j]) + 'ms Negation 30% Repetition 10%')\n",
    "        plt.title('Negation 30% Repetition 10%')\n",
    "#         plt.legend(loc=\"upper left\", borderaxespad=0.2,title='Negation ' + negation_probability_list[i] + '%', labels=line_labels )    \n",
    "        plt.legend(loc=\"upper left\", borderaxespad=0.2, labels=line_labels)    \n",
    "        plt.xlabel('Reconfigurations')\n",
    "        plt.ylabel(y_label)\n",
    "        \n",
    "#         plt.show()\n",
    "        \n",
    "        string_name_png = current_directory + file_path_images + '/png/'+metric +'/' + 'result_ ' + metric + '_' + type_exp + '.png'\n",
    "        plt.savefig(string_name_png, format='png', facecolor='white', edgecolor='none', dpi=600.0, bbox_inches='tight', pad_inches=0)\n",
    "        string_name_png = current_directory + file_path_images + '/eps/'+metric +'/' + 'result_ ' + metric + '_' + type_exp + '.eps'\n",
    "        plt.savefig(string_name_png, format='eps', facecolor='white', edgecolor='none', dpi=600.0, bbox_inches='tight', pad_inches=0)\n",
    "        \n",
    "    else:\n",
    "        fig, axs = plt.subplots(2, 3, figsize=(20,20))\n",
    "\n",
    "        for i in range(0, 2):\n",
    "            for j in range(0, 3):    \n",
    "                axs[i, j].plot('x_values', 'y_corrective_10', data=my_results[my_index], marker='^', color='green', linewidth=3, label='corrective 10', linestyle='-')                                    \n",
    "                axs[i, j].plot('x_values', 'y_preventive_10', data=my_results[my_index], marker='o', color='blue', linewidth=2, label='preventive 10')                        \n",
    "                axs[i, j].plot('x_values', 'y_standard_10', data=my_results[my_index], marker='s', color='red', linewidth=2, label='standard 10', linestyle='-')            \n",
    "                axs[i, j].set_title('Delay ' + str(delay_list[j]) + 'ms')\n",
    "                axs[i, j].legend(loc=\"upper left\", borderaxespad=0.2,title='Negation ' + negation_probability_list[i] + '%', labels=line_labels )\n",
    "                my_index += 1\n",
    "            negation_70_index +=4\n",
    "\n",
    "        for ax in axs.flat:\n",
    "            ax.set(xlabel='Reconfigurations', ylabel=y_label)\n",
    "        \n",
    "        string_name_png = current_directory + file_path_images + '/png/'+metric +'/' + 'result_ ' + metric + '_' + type_exp + '.png'\n",
    "        plt.savefig(string_name_png, format='png', facecolor='white', edgecolor='none', dpi=600.0)\n",
    "    \n",
    "#             axs[i, j].plot('x_values', 'y_corrective_10', data=my_results[my_index], marker='.', color='black', linewidth=2, label='corrective 10', linestyle='-')                        \n",
    "#             axs[i, j].errorbar('x_values', 'y_corrective_10', 'y_corrective_mean_10', data=my_results[my_index], marker='*', color='olive', linewidth=6, label='corrective 10')\n",
    "#             axs[i, j].errorbar('x_values', 'y_preventive_10', 'y_preventive_mean_10', data=my_results[my_index], marker='o', color='blue', linewidth=2, label='preventive 10')\n",
    "#             axs[i, j].errorbar('x_values', 'y_standard_10', 'y_standard_mean_10', data=my_results[my_index], marker='x', color='red', linewidth=2, label='standard 10')\n",
    "#             axs[i, j].plot('x_values', 'y_corrective_10', data=my_results[negation_70_index], marker='*', color='black', linewidth=2, label='corrective 10', linestyle='-')                                    \n",
    "\n",
    "\n",
    "#     string_name_eps = current_directory + file_path_images +'/eps/' + 'result_ ' + metric + '_' + type_exp + '.eps'\n",
    "#     plt.savefig(string_name_eps, format='eps')"
   ]
  },
  {
   "cell_type": "code",
   "execution_count": null,
   "metadata": {},
   "outputs": [],
   "source": []
  },
  {
   "cell_type": "markdown",
   "metadata": {},
   "source": [
    "# Plot all metrics"
   ]
  },
  {
   "cell_type": "code",
   "execution_count": 264,
   "metadata": {
    "scrolled": false
   },
   "outputs": [
    {
     "name": "stderr",
     "output_type": "stream",
     "text": [
      "The PostScript backend does not support transparency; partially transparent artists will be rendered opaque.\n",
      "The PostScript backend does not support transparency; partially transparent artists will be rendered opaque.\n"
     ]
    },
    {
     "data": {
      "image/png": "[encoded data removed]",
      "text/plain": [
       "<Figure size 432x288 with 1 Axes>"
      ]
     },
     "metadata": {},
     "output_type": "display_data"
    }
   ],
   "source": [
    "# columns_metrics = ['inconsistencies', 'messages_sent', 'latency_per_operation', 'overhead_data_structure', 'overhead_per_message', 'number_of_reconfigurations', 'total_reconfiguration_time']\n",
    "# ylabels = ['Inconsistencies', 'Messages sent', 'Latency per operation (s)', 'Overhead of data structure (bytes)', 'Overhead per message (bytes)', 'Extra reconfigurations', 'Total reconfiguration time (s)']\n",
    "\n",
    "columns_metrics = ['inconsistencies', 'messages_sent', 'latency_per_operation', 'overhead_data_structure', 'number_of_reconfigurations']\n",
    "ylabels = ['Inconsistencies', 'Messages sent', 'Latency per operation (s)', 'Overhead of data structure (Kb)', 'Extra reconfigurations']\n",
    "\n",
    "\n",
    "types_list = ['concurrent']\n",
    "y_label_index = 0\n",
    "for col in columns_metrics:\n",
    "    for ty in types_list:\n",
    "        if col == 'latency_per_operation':\n",
    "            plot_metric(col, ty, ylabels[y_label_index])  \n",
    "        y_label_index += 1"
   ]
  },
  {
   "cell_type": "code",
   "execution_count": null,
   "metadata": {},
   "outputs": [],
   "source": []
  }
 ],
 "metadata": {
  "kernelspec": {
   "display_name": "Python 3",
   "language": "python",
   "name": "python3"
  },
  "language_info": {
   "codemirror_mode": {
    "name": "ipython",
    "version": 3
   },
   "file_extension": ".py",
   "mimetype": "text/x-python",
   "name": "python",
   "nbconvert_exporter": "python",
   "pygments_lexer": "ipython3",
   "version": "3.6.9"
  }
 },
 "nbformat": 4,
 "nbformat_minor": 2
}
