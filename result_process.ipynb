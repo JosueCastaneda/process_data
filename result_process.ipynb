{
 "cells": [
  {
   "cell_type": "markdown",
   "metadata": {},
   "source": [
    "# Results for local code"
   ]
  },
  {
   "cell_type": "markdown",
   "metadata": {},
   "source": [
    "# 0. Load libraries"
   ]
  },
  {
   "cell_type": "code",
   "execution_count": 43,
   "metadata": {},
   "outputs": [],
   "source": [
    "import numpy as np\n",
    "import pandas as pd\n",
    "import matplotlib.pyplot as plt\n",
    "import pylab as pl\n",
    "import math\n",
    "import os\n",
    "import pickle\n",
    "#%matplotlib inline"
   ]
  },
  {
   "cell_type": "markdown",
   "metadata": {},
   "source": [
    "# Create variables to store"
   ]
  },
  {
   "cell_type": "code",
   "execution_count": 44,
   "metadata": {},
   "outputs": [],
   "source": [
    "recalculate_if_saved = False\n",
    "repetitions = 8\n",
    "number_of_updates = 150\n",
    "algorithm_list = ['causal', 'corrective', 'standard', 'preventive']\n",
    "types_list = ['concurrent', 'sequential']\n",
    "delay_list = ['1', '100', '1000']\n",
    "repetition_probability_list = ['0', '5', '10']\n",
    "negation_probability_list = ['0', '5', '10']\n",
    "\n",
    "index_list = []\n",
    "for i in range(150, 3150, 150):\n",
    "    index_list.append(i)\n",
    "\n",
    "\n",
    "file_path = 'local/test/results_experiment_'\n",
    "columns_metrics = ['inconsistencies', 'messages_sent', 'latency_per_operation', 'overhead_data_structure', 'overhead_per_message', 'number_of_reconfigurations', 'total_reconfiguration_time']"
   ]
  },
  {
   "cell_type": "code",
   "execution_count": 45,
   "metadata": {},
   "outputs": [],
   "source": [
    "def create_empty_data():\n",
    "    data = dict()\n",
    "    string_name = 'data_frame'\n",
    "            \n",
    "    for alg in algorithm_list:\n",
    "        for ty in types_list:\n",
    "            for dela in delay_list:\n",
    "                for rep in repetition_probability_list:\n",
    "                    for neg in negation_probability_list:\n",
    "                        var_name = string_name +'_' + alg + '_' + ty +'_delay_' + str(dela) + '_repetition_' + str(rep) + '_negation_' + str(neg)\n",
    "                        data[var_name] = pd.DataFrame(columns=columns_metrics, index=index_list)    \n",
    "    return data"
   ]
  },
  {
   "cell_type": "code",
   "execution_count": 46,
   "metadata": {},
   "outputs": [],
   "source": [
    "dataframe_data = create_empty_data()"
   ]
  },
  {
   "cell_type": "code",
   "execution_count": 47,
   "metadata": {},
   "outputs": [],
   "source": [
    "def add_result(value, data):\n",
    "    var_name = 'data_frame' + '_' + data['algorithm'] + '_' + data['alg_type'] + '_delay_' + data['delay'] + '_repetition_' + data['repetition'] + '_negation_' + data['negation']\n",
    "    var = dataframe_data[var_name] \n",
    "    var.loc[data['update']] = value"
   ]
  },
  {
   "cell_type": "code",
   "execution_count": 48,
   "metadata": {},
   "outputs": [],
   "source": [
    "def save_all_dataframes_as_pickle():\n",
    "    print('Saving....')\n",
    "    current_directory = os.getcwd()\n",
    "    path_results = '/saved_dataframes/'\n",
    "    string_name = 'data_frame'\n",
    "            \n",
    "    for alg in algorithm_list:\n",
    "        for ty in types_list:\n",
    "            for dela in delay_list:\n",
    "                for rep in repetition_probability_list:\n",
    "                    for neg in negation_probability_list:\n",
    "                            var_name = string_name +'_' + alg + '_' + ty +'_delay_' + str(dela) + '_repetition_' + str(rep) + '_negation_' + str(neg)\n",
    "                            var = dataframe_data[var_name] \n",
    "                            pickle.dump(var, open(current_directory + path_results + var_name +'.p' , \"wb\"))\n",
    "    pickle.dump(dataframe_data, open(current_directory + path_results + '/single_value/dataframe_data.p' , 'wb'))\n",
    "    print(dataframe_data)                    \n",
    "    print('Saved!')"
   ]
  },
  {
   "cell_type": "code",
   "execution_count": 49,
   "metadata": {},
   "outputs": [],
   "source": [
    "def calculate_values():\n",
    "    new_number = number_of_updates\n",
    "    for repetition_index in range(0, repetitions):\n",
    "        file_path = 'local/test/results_experiment_' + str(new_number)\n",
    "        data = dict()\n",
    "        data['update'] = number_of_updates * (repetition_index + 1)\n",
    "        for delay in delay_list:\n",
    "            data['delay'] = delay\n",
    "            for repetition_probability in repetition_probability_list:\n",
    "                data['repetition'] = repetition_probability\n",
    "                for negation_probability in negation_probability_list:\n",
    "                    data['negation'] = negation_probability\n",
    "                    for algorithm in algorithm_list:\n",
    "                        data['algorithm'] = algorithm\n",
    "                        for alg_type in types_list:  \n",
    "                            data['alg_type'] = alg_type\n",
    "                            str_1 = 'result_algorithm_*' + algorithm + '*_type_*' + alg_type + '*_negationProbability_*' + str(negation_probability)\n",
    "                            str_2 = '*_delay_*' + str(delay) + '.0*_repetitionProbability_*' + str(repetition_probability) + '*.csv'\n",
    "                            file_name = str_1 + str_2\n",
    "                            try:\n",
    "                                result = pd.read_csv(file_path +'/' + file_name, encoding='utf-8', sep=r'\\s*,\\s*', header=0, engine='python')\n",
    "                                mean_vector = result.mean(axis=0)\n",
    "                                add_result(mean_vector, data)                                \n",
    "                            except FileNotFoundError as e:\n",
    "                                print(e)\n",
    "\n",
    "        new_number += number_of_updates\n",
    "    save_all_dataframes_as_pickle()"
   ]
  },
  {
   "cell_type": "code",
   "execution_count": 50,
   "metadata": {},
   "outputs": [],
   "source": [
    "def load_values():\n",
    "    print('Loading...')\n",
    "    path_results = '/saved_dataframes/'\n",
    "    current_directory = os.getcwd()\n",
    "    loaded_data = pickle.load(open(current_directory + path_results + '/single_value/dataframe_data.p' , 'rb'))\n",
    "    print('Loaded!')\n",
    "    return loaded_data"
   ]
  },
  {
   "cell_type": "code",
   "execution_count": 51,
   "metadata": {
    "scrolled": true
   },
   "outputs": [
    {
     "name": "stdout",
     "output_type": "stream",
     "text": [
      "Loading...\n",
      "Loaded!\n"
     ]
    }
   ],
   "source": [
    "if recalculate_if_saved:\n",
    "    calculate_values()\n",
    "else:\n",
    "    dataframe_data = load_values()\n",
    "#     print(dataframe_data)"
   ]
  },
  {
   "cell_type": "markdown",
   "metadata": {},
   "source": [
    "# Load dataframes if not saved"
   ]
  },
  {
   "cell_type": "code",
   "execution_count": null,
   "metadata": {},
   "outputs": [],
   "source": []
  },
  {
   "cell_type": "markdown",
   "metadata": {},
   "source": [
    "# Plot results"
   ]
  },
  {
   "cell_type": "code",
   "execution_count": 52,
   "metadata": {},
   "outputs": [],
   "source": [
    "# ax = data_frame_corrective_concurrent_delay_1000_repetition_10_negation_10['number_of_reconfigurations'].plot()\n",
    "# ax2 = data_frame_preventive_concurrent_delay_1000_repetition_10_negation_10['number_of_reconfigurations'].plot(ax=ax)\n",
    "# ax3 = data_frame_causal_concurrent_delay_1000_repetition_10_negation_10['number_of_reconfigurations'].plot(ax=ax2)\n",
    "# ax4 = data_frame_standard_concurrent_delay_1000_repetition_10_negation_10['number_of_reconfigurations'].plot(ax=ax3, \n",
    "#                                                                                                              xlabel=\"reconfigurations\",\n",
    "#                                                                                                              ylabel=\"# of reconfigurations\",\n",
    "#                                                                                                             y=['P25th', 'Median', 'P75th','Pa'])\n"
   ]
  }
 ],
 "metadata": {
  "kernelspec": {
   "display_name": "Python 3",
   "language": "python",
   "name": "python3"
  },
  "language_info": {
   "codemirror_mode": {
    "name": "ipython",
    "version": 3
   },
   "file_extension": ".py",
   "mimetype": "text/x-python",
   "name": "python",
   "nbconvert_exporter": "python",
   "pygments_lexer": "ipython3",
   "version": "3.6.9"
  }
 },
 "nbformat": 4,
 "nbformat_minor": 2
}
