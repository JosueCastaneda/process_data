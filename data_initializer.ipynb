{
 "cells": [
  {
   "cell_type": "code",
   "execution_count": 10,
   "metadata": {},
   "outputs": [],
   "source": [
    "import pandas as pd"
   ]
  },
  {
   "cell_type": "code",
   "execution_count": 11,
   "metadata": {},
   "outputs": [],
   "source": [
    "columns_metrics = ['inconsistencies', 'messages_sent', 'latency_per_operation', 'overhead_data_structure', 'overhead_per_message', 'number_of_reconfigurations', 'total_reconfiguration_time']\n",
    "\n",
    "index_list = []\n",
    "for i in range(150, 3150, 150):\n",
    "    index_list.append(i)"
   ]
  },
  {
   "cell_type": "code",
   "execution_count": 12,
   "metadata": {},
   "outputs": [],
   "source": [
    "def create_empty_data():\n",
    "    data = dict()\n",
    "    path_results = '/saved_dataframes/'\n",
    "    algorithm_list = ['causal', 'corrective', 'standard', 'preventive']\n",
    "    types_list = ['concurrent', 'sequential']\n",
    "    delay_list = ['1', '100', '1000']\n",
    "    repetition_probability_list = ['0', '5', '10']\n",
    "    negation_probability_list = ['0', '5', '10']\n",
    "    string_name = 'data_frame'\n",
    "            \n",
    "    for alg in algorithm_list:\n",
    "        for ty in types_list:\n",
    "            for dela in delay_list:\n",
    "                for rep in repetition_probability_list:\n",
    "                    for neg in negation_probability_list:\n",
    "                        var_name = string_name +'_' + alg + '_' + ty +'_delay_' + str(dela) + '_repetition_' + str(rep) + '_negation_' + str(neg)\n",
    "                        data[var_name] = pd.DataFrame(columns=columns_metrics, index=index_list)    \n",
    "    return data\n"
   ]
  },
  {
   "cell_type": "code",
   "execution_count": 13,
   "metadata": {},
   "outputs": [],
   "source": []
  }
 ],
 "metadata": {
  "kernelspec": {
   "display_name": "Python 3",
   "language": "python",
   "name": "python3"
  },
  "language_info": {
   "codemirror_mode": {
    "name": "ipython",
    "version": 3
   },
   "file_extension": ".py",
   "mimetype": "text/x-python",
   "name": "python",
   "nbconvert_exporter": "python",
   "pygments_lexer": "ipython3",
   "version": "3.6.9"
  }
 },
 "nbformat": 4,
 "nbformat_minor": 2
}
